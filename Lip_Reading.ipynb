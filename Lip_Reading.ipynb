{
  "nbformat": 4,
  "nbformat_minor": 0,
  "metadata": {
    "colab": {
      "provenance": [],
      "gpuType": "V100"
    },
    "kernelspec": {
      "name": "python3",
      "display_name": "Python 3"
    },
    "language_info": {
      "name": "python"
    },
    "accelerator": "GPU"
  },
  "cells": [
    {
      "cell_type": "markdown",
      "source": [
        "<h1>0. Install and Import Dependancies</h1>"
      ],
      "metadata": {
        "id": "5ECgiJqlyD8s"
      }
    },
    {
      "cell_type": "markdown",
      "source": [
        "*  Install the following depenedancies to our enviroment"
      ],
      "metadata": {
        "id": "OipjNmdB-4IL"
      }
    },
    {
      "cell_type": "code",
      "source": [
        "!pip install opencv-python matplotlib imageio gdown tensorflow"
      ],
      "metadata": {
        "id": "dJnpSU2Ry2jd"
      },
      "execution_count": null,
      "outputs": []
    },
    {
      "cell_type": "markdown",
      "source": [
        "*  os is for formating our path names\n",
        "*  cv2 is used for loading our video frames\n",
        "*  numpy will be used for processing data/frames\n",
        "*  matplotlib will be used for showing the image frames as we experiment\n",
        "*  imagio can be used to generate a gif of the processed frames\n",
        "*  gdown is a library for downloading from google drive\n",
        "*  finally tensorflow for building, compiling and training our model\n",
        "  *  note: using the legacy adam optimizer seems to be more stable in training"
      ],
      "metadata": {
        "id": "rV3f_U2z_ARt"
      }
    },
    {
      "cell_type": "code",
      "source": [
        "import os\n",
        "import cv2\n",
        "import tensorflow as tf\n",
        "import numpy as np\n",
        "from matplotlib import pyplot as plt\n",
        "import imageio\n",
        "import gdown\n",
        "from tensorflow.keras.models import Sequential\n",
        "from tensorflow.keras.layers import Conv3D, LSTM, Dense, Dropout, Bidirectional, MaxPool3D, Activation, TimeDistributed, Flatten\n",
        "from tensorflow.keras.optimizers.legacy import Adam\n",
        "from tensorflow.keras.callbacks import ModelCheckpoint, LearningRateScheduler"
      ],
      "metadata": {
        "id": "_WgKlGdCzrms"
      },
      "execution_count": null,
      "outputs": []
    },
    {
      "cell_type": "markdown",
      "source": [
        "*  the following lines limit memory growth on our GPU device\n",
        "  *  note this is meant for 0-1 GPU on our machine"
      ],
      "metadata": {
        "id": "Ol95Ind5APPt"
      }
    },
    {
      "cell_type": "code",
      "source": [
        "physical_devices = tf.config.list_physical_devices('GPU')\n",
        "try:\n",
        "  tf.config.experimental.set_memory_growth(physical_devices[0],True)\n",
        "except:\n",
        "  pass"
      ],
      "metadata": {
        "id": "gMr0Qmrk0jR5"
      },
      "execution_count": null,
      "outputs": []
    },
    {
      "cell_type": "markdown",
      "source": [
        "<h1>1. Build Data Loading Functions</h1>"
      ],
      "metadata": {
        "id": "7DIsb7pByLZ6"
      }
    },
    {
      "cell_type": "markdown",
      "source": [
        "*  use the reduced dataset from Nicholas Renotte: https://drive.google.com/uc?id=1YlvpDLix3S-U8fd-gqRwPcWXAXm8JwjL\n",
        "  *  full dataset for training can be found here https://spandh.dcs.shef.ac.uk//gridcorpus/\n",
        "* we use gdown to download and extract the data"
      ],
      "metadata": {
        "id": "642rZ6DwBOyL"
      }
    },
    {
      "cell_type": "code",
      "source": [
        "download_url = 'https://drive.google.com/uc?id=1YlvpDLix3S-U8fd-gqRwPcWXAXm8JwjL'\n",
        "output = 'data.zip'\n",
        "gdown.download(download_url,output,quiet=False)\n",
        "gdown.extractall('data.zip')"
      ],
      "metadata": {
        "id": "hpVdtMPW105Q"
      },
      "execution_count": null,
      "outputs": []
    },
    {
      "cell_type": "markdown",
      "source": [
        "*  define our data loading function\n",
        "  *  capture frames using opencv\n",
        "  *  loop through frames and convert to greyscale, crop and scale them\n",
        "  *  we crop the mouth region of the videos staticaly via index slicing\n",
        "  *  the original LipNet paper uses DLib to detect and extract the mouth region"
      ],
      "metadata": {
        "id": "v5jtPGItCgmQ"
      }
    },
    {
      "cell_type": "code",
      "source": [
        "def load_video(path):\n",
        "  capture = cv2.VideoCapture(path)\n",
        "  frames = []\n",
        "  for i in range(int(capture.get(cv2.CAP_PROP_FRAME_COUNT))):\n",
        "    ret, frame = capture.read()\n",
        "    frame = tf.image.rgb_to_grayscale(frame)\n",
        "    frames.append(frame[190:236,80:220,:])\n",
        "  capture.release()\n",
        "  mean = tf.math.reduce_mean(frames)\n",
        "  std = tf.math.reduce_std(tf.cast(frames,tf.float32))\n",
        "  return tf.cast((frames - mean),tf.float32)/std"
      ],
      "metadata": {
        "id": "NXuZEdc34Kpq"
      },
      "execution_count": null,
      "outputs": []
    },
    {
      "cell_type": "markdown",
      "source": [
        "*  our vocabulary is all possible characters we can generate in our sentence"
      ],
      "metadata": {
        "id": "-lE11wa1DjpC"
      }
    },
    {
      "cell_type": "code",
      "source": [
        "vocab = [x for x in \"abcdefghijklmnopqrstuvwxyz'?!123456789 \"]"
      ],
      "metadata": {
        "id": "FyrOH5EU7Kx_"
      },
      "execution_count": null,
      "outputs": []
    },
    {
      "cell_type": "markdown",
      "source": [
        "*  create functions to convert characters to numbers and vice versa\n",
        "*  the StringLookup layer will automatically make the mappings of characters to numbers for us\n",
        "*  oov is the out of vocabulary token. If we encounter a character or number not in the vocabulary we just return an empty string"
      ],
      "metadata": {
        "id": "ivfIBg5XQQQb"
      }
    },
    {
      "cell_type": "code",
      "source": [
        "char_to_num = tf.keras.layers.StringLookup(vocabulary=vocab, oov_token=\"\")\n",
        "num_to_char = tf.keras.layers.StringLookup(\n",
        "    vocabulary=char_to_num.get_vocabulary(),\n",
        "    oov_token=\"\",\n",
        "    invert=True\n",
        ")\n",
        "print(f\"Our Vocabulary is:  {char_to_num.get_vocabulary()}\")\n",
        "print(f\"(size = {char_to_num.vocabulary_size()})\")"
      ],
      "metadata": {
        "id": "T__5Ls017dBP",
        "colab": {
          "base_uri": "https://localhost:8080/"
        },
        "outputId": "cbcd90f8-9239-472f-8000-47e79c426051"
      },
      "execution_count": null,
      "outputs": [
        {
          "output_type": "stream",
          "name": "stdout",
          "text": [
            "Our Vocabulary is:  ['', 'a', 'b', 'c', 'd', 'e', 'f', 'g', 'h', 'i', 'j', 'k', 'l', 'm', 'n', 'o', 'p', 'q', 'r', 's', 't', 'u', 'v', 'w', 'x', 'y', 'z', \"'\", '?', '!', '1', '2', '3', '4', '5', '6', '7', '8', '9', ' ']\n",
            "(size = 40)\n"
          ]
        }
      ]
    },
    {
      "cell_type": "markdown",
      "source": [
        "*  take a path to an alignment file and return the integer tokens representing those alignments\n",
        "  *  these are our labels for what is said in the video\n",
        "*  ignore lines that map to \"sil\" as this is a special case which represents silence in the alignments"
      ],
      "metadata": {
        "id": "J3MkgDDxRaHv"
      }
    },
    {
      "cell_type": "code",
      "source": [
        "def load_alignments(path):\n",
        "  with open(path,'r') as f:\n",
        "    lines = f.readlines()\n",
        "  tokens = []\n",
        "  for line in lines:\n",
        "    line = line.split()\n",
        "    if line[2] != 'sil':\n",
        "      tokens = [*tokens, ' ', line[2]]\n",
        "  return char_to_num(tf.reshape(tf.strings.unicode_split(tokens,input_encoding='UTF-8'),(-1)))[1:]"
      ],
      "metadata": {
        "id": "ikisjPZV9Ka1"
      },
      "execution_count": null,
      "outputs": []
    },
    {
      "cell_type": "markdown",
      "source": [
        "*  load both alignments(labels) and video frames(data)\n",
        "*  given a path extract the file name without the extension\n",
        "  *  this code assumes a windows file path formating replace the '/' with '\\\\' for linux file systems\n",
        "*  search our data folder for the video file path and the alignment file path that corresponds to it\n",
        "*  load the two files using previously defined functions"
      ],
      "metadata": {
        "id": "6MSlS2sgmeIf"
      }
    },
    {
      "cell_type": "code",
      "source": [
        "def load_data(path):\n",
        "  path = bytes.decode(path.numpy())\n",
        "  file_name = path.split('/')[-1].split('.')[0]\n",
        "  video_path = os.path.join('data','s1',f'{file_name}.mpg')\n",
        "  align_path = os.path.join('data','alignments','s1',f'{file_name}.align')\n",
        "  frames = load_video(video_path)\n",
        "  aligmnets = load_alignments(align_path)\n",
        "  return frames, aligmnets"
      ],
      "metadata": {
        "id": "tkYkJADk-Cgt"
      },
      "execution_count": null,
      "outputs": []
    },
    {
      "cell_type": "markdown",
      "source": [
        "*  use a example path to test the data loading functions"
      ],
      "metadata": {
        "id": "ALnqM0J5ncjd"
      }
    },
    {
      "cell_type": "code",
      "source": [
        "test_path = './data/s1/bbaf2n.mpg'\n",
        "load_data(tf.convert_to_tensor(test_path))"
      ],
      "metadata": {
        "id": "l2tMfc2d-9Y9"
      },
      "execution_count": null,
      "outputs": []
    },
    {
      "cell_type": "markdown",
      "source": [
        "*  TensorFlow Datasets require the data loading function to be wrapped in a TensorFlow py function to use it in the pipeline"
      ],
      "metadata": {
        "id": "3cTou568niBA"
      }
    },
    {
      "cell_type": "code",
      "source": [
        "def mappable_load_data(path):\n",
        "  res_fnc = tf.py_function(load_data, [path], (tf.float32, tf.int64))\n",
        "  return res_fnc"
      ],
      "metadata": {
        "id": "ySTe6ZqVA4Qv"
      },
      "execution_count": null,
      "outputs": []
    },
    {
      "cell_type": "markdown",
      "source": [
        "<h1>2. Create Data Pipeline</h1>"
      ],
      "metadata": {
        "id": "iUNA25TIyPDS"
      }
    },
    {
      "cell_type": "markdown",
      "source": [
        "*  create the data loading pipeline\n",
        "  * we list all of the video files in our data folder\n",
        "  * we then shuffle them\n",
        "  * we use our mappable data loading function to grab all of the frames and alignments\n",
        "  * we pad the data to ensure that each frame array is 75 frames long and each alignment is 40 characters long to ensure compatibility in the training steps\n",
        "  * we also fetch 2 videos/alignments at a time\n",
        "  * finally we load in the data\n",
        "    *  I use the keras split_dataset function to split the data evenly in half between training and test data. This uses much more RAM(5-8GB) and thus I recommend it for systems with at least 12GB RAM\n",
        "    *  Alternatively you can used the commented out take/skip method but I find this more unstable in training as well as taking significantly longer to train( aproximatly 8x slower in my experience)"
      ],
      "metadata": {
        "id": "3-oUKkD1obrK"
      }
    },
    {
      "cell_type": "code",
      "source": [
        "data = tf.data.Dataset.list_files('./data/s1/*.mpg')\n",
        "data = data.shuffle(500, reshuffle_each_iteration=False)\n",
        "data = data.map(mappable_load_data)\n",
        "data = data.padded_batch(2,padded_shapes=([75,None,None,None],[40]))\n",
        "data = data.prefetch(tf.data.AUTOTUNE)\n",
        "#train_data = data.take(450)\n",
        "#test_data = data.skip(450)\n",
        "train_data, test_data = tf.keras.utils.split_dataset(data, left_size=0.5)"
      ],
      "metadata": {
        "id": "8WyK0wwe2zSF"
      },
      "execution_count": null,
      "outputs": []
    },
    {
      "cell_type": "markdown",
      "source": [
        "*  visualize our frame data\n",
        "  *  use imageio to create a animated gif of one of the videos and output it to the root folder of our project\n",
        "  *  display a frame from frame 0-74 in our processed video useing matplotlib"
      ],
      "metadata": {
        "id": "JgbLcwjOqk2B"
      }
    },
    {
      "cell_type": "code",
      "source": [
        "sample_data = data.as_numpy_iterator().next()"
      ],
      "metadata": {
        "id": "dgYG1orb4ToO"
      },
      "execution_count": null,
      "outputs": []
    },
    {
      "cell_type": "code",
      "source": [
        "imageio.mimsave('./lip_animation.gif',sample_data[0][0],fps=10)"
      ],
      "metadata": {
        "id": "-YeUXrCr4wEo"
      },
      "execution_count": null,
      "outputs": []
    },
    {
      "cell_type": "code",
      "source": [
        "frame_to_display = 15\n",
        "plt.imshow(sample_data[0][0][frame_to_display])"
      ],
      "metadata": {
        "colab": {
          "base_uri": "https://localhost:8080/",
          "height": 244
        },
        "id": "0Txb3TYM5Ojx",
        "outputId": "422d3373-cc3e-4d26-b4a7-0dfe58b3e04f"
      },
      "execution_count": null,
      "outputs": [
        {
          "output_type": "execute_result",
          "data": {
            "text/plain": [
              "<matplotlib.image.AxesImage at 0x7f31fb9b9630>"
            ]
          },
          "metadata": {},
          "execution_count": 28
        },
        {
          "output_type": "display_data",
          "data": {
            "text/plain": [
              "<Figure size 640x480 with 1 Axes>"
            ],
            "image/png": "[encoded data removed]"
          },
          "metadata": {}
        }
      ]
    },
    {
      "cell_type": "markdown",
      "source": [
        "*  display the aligment(sentence) that corresponds to the video we are visualizing"
      ],
      "metadata": {
        "id": "TvuvOGZ-rpoq"
      }
    },
    {
      "cell_type": "code",
      "source": [
        "tf.strings.reduce_join([num_to_char(word) for word in sample_data[1][0]])"
      ],
      "metadata": {
        "colab": {
          "base_uri": "https://localhost:8080/"
        },
        "id": "7Cw736OA5vgo",
        "outputId": "06ea6895-4c4b-47c9-eb45-88a5bd32ac35"
      },
      "execution_count": null,
      "outputs": [
        {
          "output_type": "execute_result",
          "data": {
            "text/plain": [
              "<tf.Tensor: shape=(), dtype=string, numpy=b'lay blue in d three soon'>"
            ]
          },
          "metadata": {},
          "execution_count": 15
        }
      ]
    },
    {
      "cell_type": "markdown",
      "source": [
        "<h1>3. Design the Deep Neural Network</h1>"
      ],
      "metadata": {
        "id": "Dt-Je49OySdE"
      }
    },
    {
      "cell_type": "markdown",
      "source": [
        "*  Defining the Model\n",
        "  * we start with 3 sets of the following layers:\n",
        "    *  3D convulotion with 3x3x3 kernals, first we use input of our 75 video frames and feed forward to our next layer. Also we use 128,256,75 kernals respectivly\n",
        "    *  a ReLU activation layer\n",
        "    *  a final Max Pooling layer that takes the Max values of our input in 2x2x1 squares to condense it\n",
        "  *  we flatten the output of the previous step as a time series to be accepted by our LSTM layers\n",
        "  *  we use LSTM(LongShortTermMemory) layers to provide the models memory (these LSTM layers will be bidrectional)\n",
        "    *  note the original LipNet paper uses GRU layers instead of LSTM layers\n",
        "  * we use a dropout with a 50% chance for some regularization in our model\n",
        "  * finally we use a Dense softmax layer to determine which character in our vocabulary is being predicted in each step\n",
        "  "
      ],
      "metadata": {
        "id": "0I6gXWLZscSt"
      }
    },
    {
      "cell_type": "code",
      "source": [
        "model = Sequential()\n",
        "model.add(Conv3D(128,3,input_shape=(75,46,140,1),padding='same'))\n",
        "model.add(Activation('relu'))\n",
        "model.add(MaxPool3D((1,2,2)))\n",
        "\n",
        "model.add(Conv3D(256,3,padding='same'))\n",
        "model.add(Activation('relu'))\n",
        "model.add(MaxPool3D((1,2,2)))\n",
        "\n",
        "model.add(Conv3D(75,3,padding='same'))\n",
        "model.add(Activation('relu'))\n",
        "model.add(MaxPool3D((1,2,2)))\n",
        "\n",
        "model.add(TimeDistributed(Flatten()))\n",
        "\n",
        "model.add(Bidirectional(LSTM(128,kernel_initializer='Orthogonal',return_sequences=True)))\n",
        "model.add(Dropout(.5))\n",
        "\n",
        "model.add(Bidirectional(LSTM(128,kernel_initializer='Orthogonal',return_sequences=True)))\n",
        "model.add(Dropout(.5))\n",
        "\n",
        "model.add(Dense(char_to_num.vocabulary_size()+1,kernel_initializer='he_normal', activation='softmax'))\n",
        "\n",
        "model.summary()"
      ],
      "metadata": {
        "colab": {
          "base_uri": "https://localhost:8080/"
        },
        "id": "e4mPu8xBhxly",
        "outputId": "f76a5255-41d3-499a-f820-ca84bd57ca73"
      },
      "execution_count": null,
      "outputs": [
        {
          "output_type": "stream",
          "name": "stdout",
          "text": [
            "Model: \"sequential_1\"\n",
            "_________________________________________________________________\n",
            " Layer (type)                Output Shape              Param #   \n",
            "=================================================================\n",
            " conv3d_3 (Conv3D)           (None, 75, 46, 140, 128)  3584      \n",
            "                                                                 \n",
            " activation_3 (Activation)   (None, 75, 46, 140, 128)  0         \n",
            "                                                                 \n",
            " max_pooling3d_3 (MaxPooling  (None, 75, 23, 70, 128)  0         \n",
            " 3D)                                                             \n",
            "                                                                 \n",
            " conv3d_4 (Conv3D)           (None, 75, 23, 70, 256)   884992    \n",
            "                                                                 \n",
            " activation_4 (Activation)   (None, 75, 23, 70, 256)   0         \n",
            "                                                                 \n",
            " max_pooling3d_4 (MaxPooling  (None, 75, 11, 35, 256)  0         \n",
            " 3D)                                                             \n",
            "                                                                 \n",
            " conv3d_5 (Conv3D)           (None, 75, 11, 35, 75)    518475    \n",
            "                                                                 \n",
            " activation_5 (Activation)   (None, 75, 11, 35, 75)    0         \n",
            "                                                                 \n",
            " max_pooling3d_5 (MaxPooling  (None, 75, 5, 17, 75)    0         \n",
            " 3D)                                                             \n",
            "                                                                 \n",
            " time_distributed_1 (TimeDis  (None, 75, 6375)         0         \n",
            " tributed)                                                       \n",
            "                                                                 \n",
            " bidirectional_2 (Bidirectio  (None, 75, 256)          6660096   \n",
            " nal)                                                            \n",
            "                                                                 \n",
            " dropout_2 (Dropout)         (None, 75, 256)           0         \n",
            "                                                                 \n",
            " bidirectional_3 (Bidirectio  (None, 75, 256)          394240    \n",
            " nal)                                                            \n",
            "                                                                 \n",
            " dropout_3 (Dropout)         (None, 75, 256)           0         \n",
            "                                                                 \n",
            " dense_1 (Dense)             (None, 75, 41)            10537     \n",
            "                                                                 \n",
            "=================================================================\n",
            "Total params: 8,471,924\n",
            "Trainable params: 8,471,924\n",
            "Non-trainable params: 0\n",
            "_________________________________________________________________\n"
          ]
        }
      ]
    },
    {
      "cell_type": "markdown",
      "source": [
        "*  test our models predictions before training"
      ],
      "metadata": {
        "id": "eyK343Rgxkl8"
      }
    },
    {
      "cell_type": "code",
      "source": [
        "print('test prediction')\n",
        "test_prediction = model.predict(sample_data[0])\n",
        "print(tf.strings.reduce_join([num_to_char(tf.argmax(x)) for x in test_prediction[1]]))\n",
        "\n",
        "print(f'model input shape: {model.input_shape}')\n",
        "print(f'model output shape: {model.output_shape}')"
      ],
      "metadata": {
        "id": "P14E4dxhkykQ"
      },
      "execution_count": null,
      "outputs": []
    },
    {
      "cell_type": "markdown",
      "source": [
        "<h1>4. Setup Training Options and Train</h1>"
      ],
      "metadata": {
        "id": "2tBAbfgZyYGP"
      }
    },
    {
      "cell_type": "markdown",
      "source": [
        "*  after 30 epochs lower the learning rate using an exponential function"
      ],
      "metadata": {
        "id": "h31By6q0-oK1"
      }
    },
    {
      "cell_type": "code",
      "source": [
        "def scheduler(epoch,lr):\n",
        "  if epoch < 30:\n",
        "    return lr\n",
        "  else:\n",
        "    return lr *tf.math.exp(-0.1)"
      ],
      "metadata": {
        "id": "80Km9qvwoOsz"
      },
      "execution_count": null,
      "outputs": []
    },
    {
      "cell_type": "markdown",
      "source": [
        "*  define the CTCLoss method\n",
        "  *  this will lower chance of redudant predicted words\n",
        "  *  this is also better performing for unaligned data if you were to take this into an app that live predicted a video feed\n",
        "  *  video explaining CTC Loss: https://www.youtube.com/watch?v=GxtMbmv169o"
      ],
      "metadata": {
        "id": "-iabBUmN-8D4"
      }
    },
    {
      "cell_type": "code",
      "source": [
        "def CTCLoss(y_true,y_pred):\n",
        "  batch_len = tf.cast(tf.shape(y_true)[0],dtype=\"int64\")\n",
        "  input_len = tf.cast(tf.shape(y_pred)[1],dtype=\"int64\")\n",
        "  label_len = tf.cast(tf.shape(y_true)[1],dtype=\"int64\")\n",
        "\n",
        "  input_len = input_len * tf.ones(shape=(batch_len,1), dtype=\"int64\")\n",
        "  label_len = label_len * tf.ones(shape=(batch_len,1), dtype=\"int64\")\n",
        "\n",
        "  loss = tf.keras.backend.ctc_batch_cost(y_true, y_pred, input_len, label_len)\n",
        "  return loss"
      ],
      "metadata": {
        "id": "JzdYWoqUobUp"
      },
      "execution_count": null,
      "outputs": []
    },
    {
      "cell_type": "markdown",
      "source": [
        "*  use callback subclassing to show the original annotation vs the predicted anotation the model would produce at the end of each epoch"
      ],
      "metadata": {
        "id": "8l_Akq3wACSO"
      }
    },
    {
      "cell_type": "code",
      "source": [
        "class ProduceExample(tf.keras.callbacks.Callback):\n",
        "  def __init__(self, dataset):\n",
        "    self.dataset = dataset.as_numpy_iterator()\n",
        "\n",
        "  def on_epoch_end(self, epoch, logs=None):\n",
        "    data = self.dataset.next()\n",
        "    yhat = self.model.predict(data[0])\n",
        "    decoded = tf.keras.backend.ctc_decode(yhat,[75,75], greedy=False)[0][0].numpy()\n",
        "    for x in range(len(yhat)):\n",
        "      print(\"Original:\", tf.strings.reduce_join(num_to_char(data[1][x])).numpy().decode('utf-8'))\n",
        "      print(\"Prediction:\", tf.strings.reduce_join(num_to_char(decoded[x])).numpy().decode('utf-8'))\n",
        "      print('~'*100)"
      ],
      "metadata": {
        "id": "idW8d67oq2yi"
      },
      "execution_count": null,
      "outputs": []
    },
    {
      "cell_type": "code",
      "source": [
        "model.compile(optimizer=Adam(learning_rate=0.0001), loss=CTCLoss)"
      ],
      "metadata": {
        "id": "KWth67N_sUFr"
      },
      "execution_count": null,
      "outputs": []
    },
    {
      "cell_type": "markdown",
      "source": [
        "*  we are setting up our callbacks so that the learning rate scheduler is used our example callback is used and that at the end of each epoch we save our model weights to a checkpoint"
      ],
      "metadata": {
        "id": "kW8pjdyRA1Uh"
      }
    },
    {
      "cell_type": "code",
      "source": [
        "checkpoint_callback = ModelCheckpoint(os.path.join('models','checkpoint'), monitor='loss', save_weights_only=True)\n",
        "schedule_callback = LearningRateScheduler(scheduler)\n",
        "example_callback = ProduceExample(test_data)"
      ],
      "metadata": {
        "id": "B_cIjPTjtEs1"
      },
      "execution_count": null,
      "outputs": []
    },
    {
      "cell_type": "markdown",
      "source": [
        "*  you can toggle load_model to either load a checkpoint or train the model"
      ],
      "metadata": {
        "id": "ICUyJ0_uBICP"
      }
    },
    {
      "cell_type": "code",
      "source": [
        "load_model = False\n",
        "if(load_model):\n",
        "  model.load_weights('./models/checkpoint')\n",
        "else:\n",
        "  model.fit(train_data,validation_data=test_data, epochs=100, callbacks=[checkpoint_callback, schedule_callback, example_callback])\n"
      ],
      "metadata": {
        "id": "gfMFujdSubjl"
      },
      "execution_count": null,
      "outputs": []
    },
    {
      "cell_type": "markdown",
      "source": [
        "<h1>5. Make a Prediction</h1>"
      ],
      "metadata": {
        "id": "XpmDt5QLylv0"
      }
    },
    {
      "cell_type": "markdown",
      "source": [
        "*  you can download the weights for a 100 epoch model I trained from: https://drive.google.com/u/0/uc?id=19aX5ESgsMtrOVchHb_IDK95XrqmX_-2u\n",
        "*  we then can get the predictions from our test data one at a time to verify our model is working"
      ],
      "metadata": {
        "id": "kMum8S9qBrZ8"
      }
    },
    {
      "cell_type": "code",
      "source": [
        "checkpoint_url = 'https://drive.google.com/u/0/uc?id=19aX5ESgsMtrOVchHb_IDK95XrqmX_-2u'\n",
        "output = 'checkpoint.zip'\n",
        "gdown.download(checkpoint_url, output, quiet=False)\n",
        "gdown.extractall('checkpoint.zip','models')\n",
        "model.load_weights('models/checkpoint')"
      ],
      "metadata": {
        "id": "ewCOqr2Q3-Ud"
      },
      "execution_count": null,
      "outputs": []
    },
    {
      "cell_type": "code",
      "source": [
        "sample_data = test_data.as_numpy_iterator()"
      ],
      "metadata": {
        "id": "dC_8U5uTARXH"
      },
      "execution_count": null,
      "outputs": []
    },
    {
      "cell_type": "markdown",
      "source": [
        "*  run this code cell each time to get a new set of two predictions from test data"
      ],
      "metadata": {
        "id": "1wX5meLlCOYF"
      }
    },
    {
      "cell_type": "code",
      "source": [
        "sample = sample_data.next()\n",
        "prediction =  model.predict(sample[0])\n",
        "decoded = tf.keras.backend.ctc_decode(prediction, input_length=[75,75], greedy=True)[0][0].numpy()\n",
        "print('~'*30,'PREDICTIONS','~'*30)\n",
        "print([tf.strings.reduce_join([num_to_char(word) for word in sentence]) for sentence in decoded][0])\n",
        "print([tf.strings.reduce_join([num_to_char(word) for word in sentence]) for sentence in decoded][1])\n",
        "print('~'*30,'REAL TEXT','~'*30)\n",
        "print([tf.strings.reduce_join([num_to_char(word) for word in sentence]) for sentence in sample[1]][0])\n",
        "print([tf.strings.reduce_join([num_to_char(word) for word in sentence]) for sentence in sample[1]][1])"
      ],
      "metadata": {
        "colab": {
          "base_uri": "https://localhost:8080/"
        },
        "id": "bMu3Rvj_4VWd",
        "outputId": "a3ace307-ef5c-490b-851f-6d39bc563fcf"
      },
      "execution_count": null,
      "outputs": [
        {
          "output_type": "stream",
          "name": "stdout",
          "text": [
            "1/1 [==============================] - 0s 94ms/step\n",
            "~~~~~~~~~~~~~~~~~~~~~~~~~~~~~~ PREDICTIONS ~~~~~~~~~~~~~~~~~~~~~~~~~~~~~~\n",
            "tf.Tensor(b'bin blue by m seve soon', shape=(), dtype=string)\n",
            "tf.Tensor(b'lay white by f four please', shape=(), dtype=string)\n",
            "~~~~~~~~~~~~~~~~~~~~~~~~~~~~~~ REAL TEXT ~~~~~~~~~~~~~~~~~~~~~~~~~~~~~~\n",
            "tf.Tensor(b'bin blue by f seven soon', shape=(), dtype=string)\n",
            "tf.Tensor(b'lay white by f four please', shape=(), dtype=string)\n"
          ]
        }
      ]
    },
    {
      "cell_type": "markdown",
      "source": [
        "<h1>6. Test on Video</h1>"
      ],
      "metadata": {
        "id": "QZkoeZVIyqbo"
      }
    },
    {
      "cell_type": "markdown",
      "source": [
        "*  test specific videos by substituting in the /path/to/video and running the following code cell"
      ],
      "metadata": {
        "id": "ifjE58B4CX0p"
      }
    },
    {
      "cell_type": "code",
      "source": [
        "sample_data = load_data(tf.convert_to_tensor('/path/to/video'))\n",
        "prediction = model.predict(tf.expand_dims(sample_data[0],axis=0))\n",
        "decoded = tf.keras.backend.ctc_decode(prediction,input_length=[75], greedy=True)[0][0].numpy()\n",
        "print('~'*30,'PREDICTIONS','~'*30)\n",
        "print([tf.strings.reduce_join([num_to_char(word) for word in sentence]) for sentence in decoded][0])\n",
        "print('~'*30,'REAL TEXT','~'*30)\n",
        "print([tf.strings.reduce_join([num_to_char(word) for word in sentence]) for sentence in [sample_data[1]]][0])"
      ],
      "metadata": {
        "id": "OzNj1Y2i8nGR",
        "colab": {
          "base_uri": "https://localhost:8080/"
        },
        "outputId": "892df0a1-3c8f-4334-c766-0cd0c5a90eca"
      },
      "execution_count": null,
      "outputs": [
        {
          "output_type": "stream",
          "name": "stdout",
          "text": [
            "1/1 [==============================] - 0s 57ms/step\n",
            "~~~~~~~~~~~~~~~~~~~~~~~~~~~~~~ PREDICTIONS ~~~~~~~~~~~~~~~~~~~~~~~~~~~~~~\n",
            "tf.Tensor(b'bin green at n five soon', shape=(), dtype=string)\n",
            "~~~~~~~~~~~~~~~~~~~~~~~~~~~~~~ REAL TEXT ~~~~~~~~~~~~~~~~~~~~~~~~~~~~~~\n",
            "tf.Tensor(b'bin green at n five soon', shape=(), dtype=string)\n"
          ]
        }
      ]
    }
  ]
}